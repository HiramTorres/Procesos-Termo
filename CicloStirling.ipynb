{
  "nbformat": 4,
  "nbformat_minor": 0,
  "metadata": {
    "colab": {
      "name": "CicloStirling.ipynb",
      "provenance": [],
      "collapsed_sections": [],
      "authorship_tag": "ABX9TyPOQe7bV7w/EdlNZxjxEdsi",
      "include_colab_link": true
    },
    "kernelspec": {
      "name": "python3",
      "display_name": "Python 3"
    },
    "language_info": {
      "name": "python"
    }
  },
  "cells": [
    {
      "cell_type": "markdown",
      "metadata": {
        "id": "view-in-github",
        "colab_type": "text"
      },
      "source": [
        "<a href=\"https://colab.research.google.com/github/HiramTorres/Procesos-Termo/blob/master/CicloStirling.ipynb\" target=\"_parent\"><img src=\"https://colab.research.google.com/assets/colab-badge.svg\" alt=\"Open In Colab\"/></a>"
      ]
    },
    {
      "cell_type": "code",
      "execution_count": 91,
      "metadata": {
        "colab": {
          "base_uri": "https://localhost:8080/",
          "height": 460
        },
        "id": "MhPMz0Lc_8Ej",
        "outputId": "3f5aeff0-0932-4265-b1ae-9f56996f091c"
      },
      "outputs": [
        {
          "output_type": "stream",
          "name": "stderr",
          "text": [
            "/usr/local/lib/python3.7/dist-packages/ipykernel_launcher.py:16: UserWarning: You have used the `textcoords` kwarg, but not the `xytext` kwarg.  This can lead to surprising results.\n",
            "  app.launch_new_instance()\n",
            "/usr/local/lib/python3.7/dist-packages/ipykernel_launcher.py:17: UserWarning: You have used the `textcoords` kwarg, but not the `xytext` kwarg.  This can lead to surprising results.\n"
          ]
        },
        {
          "output_type": "display_data",
          "data": {
            "text/plain": [
              "<Figure size 432x432 with 1 Axes>"
            ],
            "image/png": "[encoded data removed]"
          },
          "metadata": {
            "needs_background": "light"
          }
        }
      ],
      "source": [
        "import matplotlib.pyplot as plt \n",
        "\n",
        "P = [2,1]\n",
        "V = [1,1]\n",
        "\n",
        "plt.figure(figsize= (6,6))\n",
        "plt.plot(V,P, marker = \"o\", linestyle = \"--\", color = \"c\",label = \"Proceso 1-2\")\n",
        "plt.xlabel(\"Volumen\")\n",
        "plt.ylabel(\"Presión\")\n",
        "plt.xlim(0,3)\n",
        "plt.ylim(0,3)\n",
        "plt.yticks([1,2])\n",
        "plt.xticks([1,2])\n",
        "plt.legend(loc= \"upper left\")\n",
        "plt.savefig(\"Proceso 1-2\")\n",
        "plt.annotate(\"1\", xy=(1,1),textcoords='offset points')\n",
        "plt.annotate(\"2\", xy=(1,2),textcoords='offset points')\n",
        "'''plt.annotate(\"\",\n",
        "            xy=(1,2), xycoords='data',\n",
        "            xytext=(1,1), textcoords='data',\n",
        "            arrowprops=dict(arrowstyle=\"->\",\n",
        "                            connectionstyle=\"arc3\"),\n",
        "            )'''\n",
        "# Para hacer flecha             \n",
        "plt.show()"
      ]
    },
    {
      "cell_type": "markdown",
      "source": [
        "($nRT_1)$ $ln (\\frac{V2}{V1})$ "
      ],
      "metadata": {
        "id": "r0h9kpeOmcwP"
      }
    },
    {
      "cell_type": "code",
      "source": [
        "import numpy as np \n",
        "\n",
        "def x2(n,R,T,V2, V1):\n",
        "  return n*R*T*np.log(V2/V1)\n",
        "\n",
        "x = [1,2]\n",
        "funcion = x2(3,2,3,4,3)\n",
        "print(funcion)"
      ],
      "metadata": {
        "colab": {
          "base_uri": "https://localhost:8080/"
        },
        "id": "kiNrZgI4A36K",
        "outputId": "8bea38a3-8455-48de-b723-d2884efce982"
      },
      "execution_count": 94,
      "outputs": [
        {
          "output_type": "stream",
          "name": "stdout",
          "text": [
            "5.178277304132055\n"
          ]
        }
      ]
    },
    {
      "cell_type": "code",
      "source": [
        ""
      ],
      "metadata": {
        "id": "CRSlvbyGnpH-"
      },
      "execution_count": null,
      "outputs": []
    }
  ]
}