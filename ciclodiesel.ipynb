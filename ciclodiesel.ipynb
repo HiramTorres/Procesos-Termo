{
  "nbformat": 4,
  "nbformat_minor": 0,
  "metadata": {
    "colab": {
      "name": "ciclodiesel.ipynb",
      "provenance": [],
      "collapsed_sections": [],
      "authorship_tag": "ABX9TyNihKnusG8B71WWnIfS8cdg",
      "include_colab_link": true
    },
    "kernelspec": {
      "name": "python3",
      "display_name": "Python 3"
    },
    "language_info": {
      "name": "python"
    }
  },
  "cells": [
    {
      "cell_type": "markdown",
      "metadata": {
        "id": "view-in-github",
        "colab_type": "text"
      },
      "source": [
        "<a href=\"https://colab.research.google.com/github/HiramTorres/Procesos-Termo/blob/master/ciclodiesel.ipynb\" target=\"_parent\"><img src=\"https://colab.research.google.com/assets/colab-badge.svg\" alt=\"Open In Colab\"/></a>"
      ]
    },
    {
      "cell_type": "code",
      "execution_count": 76,
      "metadata": {
        "colab": {
          "base_uri": "https://localhost:8080/",
          "height": 388
        },
        "id": "MhPMz0Lc_8Ej",
        "outputId": "769095e2-c23f-4359-8bdd-03dc8e0e3c8a"
      },
      "outputs": [
        {
          "output_type": "display_data",
          "data": {
            "text/plain": [
              "<Figure size 432x432 with 1 Axes>"
            ],
            "image/png": "[encoded data removed]"
          },
          "metadata": {
            "needs_background": "light"
          }
        }
      ],
      "source": [
        "import matplotlib.pyplot as plt \n",
        "\n",
        "P = [2,1]\n",
        "V = (1,1 )\n",
        "\n",
        "plt.figure(figsize= (6,6))\n",
        "plt.plot(V,P, marker = \"o\", linestyle = \"--\", color = \"c\",label = \"Proceso 1-2\")\n",
        "plt.xlabel(\"Volúmen\")\n",
        "plt.ylabel(\"Presión\")\n",
        "plt.xlim(0,3)\n",
        "plt.ylim(0,3)\n",
        "plt.yticks([1,2])\n",
        "plt.xticks([1,2])\n",
        "plt.legend(loc= \"upper left\")\n",
        "plt.savefig(\"Proceso 1-2\")\n",
        "plt.annotate(\"1\", xy=(1,1))\n",
        "plt.annotate(\"2\", xy=(1,2))\n",
        "'''plt.annotate(\"\",\n",
        "            xy=(1,2), xycoords='data',\n",
        "            xytext=(1,1), textcoords='data',\n",
        "            arrowprops=dict(arrowstyle=\"->\",\n",
        "                            connectionstyle=\"arc3\"),\n",
        "            )'''\n",
        "# Para hacer flecha             \n",
        "plt.show()"
      ]
    },
    {
      "cell_type": "code",
      "source": [
        ""
      ],
      "metadata": {
        "id": "kiNrZgI4A36K"
      },
      "execution_count": null,
      "outputs": []
    }
  ]
}